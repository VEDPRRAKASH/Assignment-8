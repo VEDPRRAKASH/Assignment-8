{
 "cells": [
  {
   "cell_type": "code",
   "execution_count": 1,
   "id": "c80bdd75",
   "metadata": {},
   "outputs": [],
   "source": [
    "#1. Is the Python Standard Library included with PyInputPlus?\n",
    "#Solution: PyInputPlus is not a part of the Python Standard Library, we must install it separately using Pip."
   ]
  },
  {
   "cell_type": "code",
   "execution_count": 2,
   "id": "60f6d719",
   "metadata": {},
   "outputs": [],
   "source": [
    "#2. Why is PyInputPlus commonly imported with import pyinputplus as pypi?\n",
    "#Solution: You can import the module with import pyinputplus as pyip so that you can enter a shorter name when calling the module’s functions."
   ]
  },
  {
   "cell_type": "code",
   "execution_count": 3,
   "id": "52398175",
   "metadata": {},
   "outputs": [],
   "source": [
    "#3. How do you distinguish between inputInt() and inputFloat()?\n",
    "#Solution: The difference is in the data-type when we use the first one the program expects an integer value as input but in the latter it expects a float value i.e number containing a decimal."
   ]
  },
  {
   "cell_type": "code",
   "execution_count": 4,
   "id": "d3fc8030",
   "metadata": {},
   "outputs": [],
   "source": [
    "#4. Using PyInputPlus, how do you ensure that the user enters a whole number between 0 and 99?\n",
    "#Solution: By using pyip.inputint(min=0, max=99)."
   ]
  },
  {
   "cell_type": "code",
   "execution_count": 5,
   "id": "2438d746",
   "metadata": {},
   "outputs": [],
   "source": [
    "#5. What is transferred to the keyword arguments allowRegexes and blockRegexes?\n",
    "#Solution: A list of regex strings that are either explicitly allowed or denied."
   ]
  },
  {
   "cell_type": "code",
   "execution_count": 6,
   "id": "90526f11",
   "metadata": {},
   "outputs": [],
   "source": [
    "#6. If a blank input is entered three times, what does inputStr(limit=3) do?\n",
    "#Solution: The function will raise RetryLimitException."
   ]
  },
  {
   "cell_type": "code",
   "execution_count": 7,
   "id": "61e121dc",
   "metadata": {},
   "outputs": [],
   "source": [
    "#7. If blank input is entered three times, what does inputStr(limit=3, default='hello') do?\n",
    "#Solution: The function returns the value 'hello'."
   ]
  }
 ],
 "metadata": {
  "kernelspec": {
   "display_name": "Python 3 (ipykernel)",
   "language": "python",
   "name": "python3"
  },
  "language_info": {
   "codemirror_mode": {
    "name": "ipython",
    "version": 3
   },
   "file_extension": ".py",
   "mimetype": "text/x-python",
   "name": "python",
   "nbconvert_exporter": "python",
   "pygments_lexer": "ipython3",
   "version": "3.9.7"
  }
 },
 "nbformat": 4,
 "nbformat_minor": 5
}
